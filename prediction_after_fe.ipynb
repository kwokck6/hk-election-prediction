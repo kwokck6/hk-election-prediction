{
 "cells": [
  {
   "cell_type": "markdown",
   "metadata": {},
   "source": [
    "# Prediction after feature engineering"
   ]
  },
  {
   "cell_type": "code",
   "execution_count": 1,
   "metadata": {
    "execution": {
     "iopub.execute_input": "2022-04-03T08:10:05.565167Z",
     "iopub.status.busy": "2022-04-03T08:10:05.564685Z",
     "iopub.status.idle": "2022-04-03T08:10:06.529843Z",
     "shell.execute_reply": "2022-04-03T08:10:06.528918Z",
     "shell.execute_reply.started": "2022-04-03T08:10:05.565078Z"
    }
   },
   "outputs": [],
   "source": [
    "import pandas as pd\n",
    "import torch\n",
    "import torch.nn as nn\n",
    "import numpy as np\n",
    "from torch.utils.data import DataLoader, Dataset\n",
    "from sklearn.preprocessing import LabelEncoder, MinMaxScaler, StandardScaler\n",
    "from sklearn.decomposition import PCA\n",
    "from sklearn.discriminant_analysis import LinearDiscriminantAnalysis, QuadraticDiscriminantAnalysis\n",
    "from sklearn.linear_model import SGDClassifier\n",
    "from sklearn.neural_network import MLPClassifier\n",
    "from sklearn.model_selection import train_test_split\n",
    "from sklearn.cluster import AffinityPropagation\n",
    "from sklearn.tree import DecisionTreeClassifier\n",
    "from sklearn.ensemble import AdaBoostClassifier, RandomForestClassifier\n",
    "from sklearn.metrics import accuracy_score, confusion_matrix\n",
    "import seaborn as sns\n",
    "import matplotlib.pyplot as plt"
   ]
  },
  {
   "cell_type": "code",
   "execution_count": 2,
   "metadata": {
    "execution": {
     "iopub.execute_input": "2022-04-03T08:10:06.531433Z",
     "iopub.status.busy": "2022-04-03T08:10:06.531163Z",
     "iopub.status.idle": "2022-04-03T08:10:06.537072Z",
     "shell.execute_reply": "2022-04-03T08:10:06.536264Z",
     "shell.execute_reply.started": "2022-04-03T08:10:06.531402Z"
    }
   },
   "outputs": [],
   "source": [
    "sns.set()\n",
    "seed = 0\n",
    "lr = 0.001\n",
    "batch_size = 16\n",
    "epochs = 35\n",
    "device = 'cuda' if torch.cuda.is_available() else 'cpu'\n",
    "pol_parties = ['ADPL', 'BPA', 'CIV', 'CivP', 'CivPass', 'DAB', 'DP', 'Demosisto', 'FTU', 'IND', 'LAB', 'LIB', 'LSD', 'NPP', 'NWSC', 'NeoDem', 'PathDem', 'PeoP', 'Young']\n",
    "blocs = ['CEN', 'DEM', 'EST', 'IND', 'LOC']"
   ]
  },
  {
   "cell_type": "code",
   "execution_count": 3,
   "metadata": {
    "execution": {
     "iopub.execute_input": "2022-04-03T08:10:06.538632Z",
     "iopub.status.busy": "2022-04-03T08:10:06.538256Z",
     "iopub.status.idle": "2022-04-03T08:10:06.578155Z",
     "shell.execute_reply": "2022-04-03T08:10:06.577222Z",
     "shell.execute_reply.started": "2022-04-03T08:10:06.538593Z"
    }
   },
   "outputs": [],
   "source": [
    "dcca_11c = pd.read_csv('dcca_11c_processed.csv')\n",
    "dcca_16bc = pd.read_csv('dcca_16bc_processed.csv')\n",
    "le_legco_winner_party = LabelEncoder().fit(pol_parties)\n",
    "le_legco_winner_bloc = LabelEncoder().fit(blocs)"
   ]
  },
  {
   "cell_type": "code",
   "execution_count": 4,
   "metadata": {
    "execution": {
     "iopub.execute_input": "2022-04-03T08:10:06.581247Z",
     "iopub.status.busy": "2022-04-03T08:10:06.580889Z",
     "iopub.status.idle": "2022-04-03T08:10:06.589246Z",
     "shell.execute_reply": "2022-04-03T08:10:06.588074Z",
     "shell.execute_reply.started": "2022-04-03T08:10:06.581204Z"
    }
   },
   "outputs": [],
   "source": [
    "X = dcca_11c.drop(['ca_chi', 'legco2012_winner', 'legco2016_winner'], axis=1)\n",
    "try:\n",
    "    y = le_legco_winner_party.transform(dcca_11c['legco2012_winner'])\n",
    "except ValueError:\n",
    "    y = le_legco_winner_bloc.transform(dcca_11c['legco2012_winner'])"
   ]
  },
  {
   "cell_type": "code",
   "execution_count": 5,
   "metadata": {
    "execution": {
     "iopub.execute_input": "2022-04-03T08:10:06.59122Z",
     "iopub.status.busy": "2022-04-03T08:10:06.590713Z",
     "iopub.status.idle": "2022-04-03T08:10:06.602131Z",
     "shell.execute_reply": "2022-04-03T08:10:06.601385Z",
     "shell.execute_reply.started": "2022-04-03T08:10:06.591171Z"
    }
   },
   "outputs": [],
   "source": [
    "n_features = len(X.columns)\n",
    "n_classes = len(pol_parties)"
   ]
  },
  {
   "cell_type": "code",
   "execution_count": 6,
   "metadata": {
    "execution": {
     "iopub.execute_input": "2022-04-03T08:10:06.60406Z",
     "iopub.status.busy": "2022-04-03T08:10:06.603278Z",
     "iopub.status.idle": "2022-04-03T08:10:06.61669Z",
     "shell.execute_reply": "2022-04-03T08:10:06.615943Z",
     "shell.execute_reply.started": "2022-04-03T08:10:06.604021Z"
    }
   },
   "outputs": [],
   "source": [
    "class DCCADataset(Dataset):\n",
    "    def __init__(self, features, targets, transform=None):\n",
    "        self.transform = transform\n",
    "        if self.transform is not None:\n",
    "            self.features = self.transform(features)\n",
    "        else:\n",
    "            self.features = features.to_numpy()\n",
    "        self.targets = targets\n",
    "        self.samples = []\n",
    "        for feature, target in zip(self.features, self.targets):\n",
    "            self.samples.append((feature, target))\n",
    "        \n",
    "    def __len__(self):\n",
    "        return len(self.samples)\n",
    "    \n",
    "    def __getitem__(self, idx):\n",
    "        return self.samples[idx]"
   ]
  },
  {
   "cell_type": "code",
   "execution_count": 7,
   "metadata": {
    "execution": {
     "iopub.execute_input": "2022-04-03T08:10:06.618284Z",
     "iopub.status.busy": "2022-04-03T08:10:06.617618Z",
     "iopub.status.idle": "2022-04-03T08:10:06.638967Z",
     "shell.execute_reply": "2022-04-03T08:10:06.638274Z",
     "shell.execute_reply.started": "2022-04-03T08:10:06.618248Z"
    }
   },
   "outputs": [],
   "source": [
    "need_scaler = True\n",
    "if need_scaler:\n",
    "    scaler = StandardScaler().fit(X)\n",
    "    X[X.columns] = scaler.transform(X)"
   ]
  },
  {
   "cell_type": "markdown",
   "metadata": {},
   "source": [
    "## Preparing for Classification"
   ]
  },
  {
   "cell_type": "code",
   "execution_count": 8,
   "metadata": {
    "execution": {
     "iopub.execute_input": "2022-04-03T08:10:06.854528Z",
     "iopub.status.busy": "2022-04-03T08:10:06.853524Z",
     "iopub.status.idle": "2022-04-03T08:10:06.868463Z",
     "shell.execute_reply": "2022-04-03T08:10:06.867313Z",
     "shell.execute_reply.started": "2022-04-03T08:10:06.854481Z"
    }
   },
   "outputs": [],
   "source": [
    "train_valid_X, test_X, train_valid_y, test_y = train_test_split(X, y, test_size=0.1, random_state=seed, stratify=y)\n",
    "train_X, valid_X, train_y, valid_y = train_test_split(train_valid_X, train_valid_y, test_size=1/9, random_state=seed, stratify=train_valid_y)"
   ]
  },
  {
   "cell_type": "code",
   "execution_count": 9,
   "metadata": {
    "execution": {
     "iopub.execute_input": "2022-04-03T08:10:06.87155Z",
     "iopub.status.busy": "2022-04-03T08:10:06.870196Z",
     "iopub.status.idle": "2022-04-03T08:10:06.878308Z",
     "shell.execute_reply": "2022-04-03T08:10:06.877508Z",
     "shell.execute_reply.started": "2022-04-03T08:10:06.871495Z"
    }
   },
   "outputs": [],
   "source": [
    "train_dataset = DCCADataset(train_X, train_y)\n",
    "valid_dataset = DCCADataset(valid_X, valid_y)\n",
    "train_loader = DataLoader(train_dataset, batch_size=batch_size, shuffle=True)\n",
    "valid_loader = DataLoader(valid_dataset, batch_size=batch_size, shuffle=False)"
   ]
  },
  {
   "cell_type": "markdown",
   "metadata": {},
   "source": [
    "## Predicting 2012 Results\n",
    "### Decision Tree Model"
   ]
  },
  {
   "cell_type": "code",
   "execution_count": 10,
   "metadata": {
    "execution": {
     "iopub.execute_input": "2022-04-03T08:10:06.880058Z",
     "iopub.status.busy": "2022-04-03T08:10:06.879485Z",
     "iopub.status.idle": "2022-04-03T08:10:06.912274Z",
     "shell.execute_reply": "2022-04-03T08:10:06.91112Z",
     "shell.execute_reply.started": "2022-04-03T08:10:06.880021Z"
    },
    "scrolled": true
   },
   "outputs": [
    {
     "name": "stdout",
     "output_type": "stream",
     "text": [
      "Training accuracy: 100.00%\n",
      "Validation accuracy: 100.00%\n",
      "Test accuracy: 51.28%\n"
     ]
    }
   ],
   "source": [
    "dtc = DecisionTreeClassifier(random_state=seed).fit(train_valid_X, train_valid_y)\n",
    "print(f'Training accuracy: {100 * dtc.score(train_X, train_y):.2f}%')\n",
    "print(f'Validation accuracy: {100 * dtc.score(valid_X, valid_y):.2f}%')\n",
    "print(f'Test accuracy: {100 * dtc.score(test_X, test_y):.2f}%')"
   ]
  },
  {
   "cell_type": "code",
   "execution_count": 11,
   "metadata": {
    "execution": {
     "iopub.execute_input": "2022-04-03T08:10:06.914081Z",
     "iopub.status.busy": "2022-04-03T08:10:06.913725Z",
     "iopub.status.idle": "2022-04-03T08:10:07.422658Z",
     "shell.execute_reply": "2022-04-03T08:10:07.421874Z",
     "shell.execute_reply.started": "2022-04-03T08:10:06.914037Z"
    }
   },
   "outputs": [
    {
     "data": {
      "image/png": "[encoded data removed]",
      "text/plain": [
       "<Figure size 720x720 with 1 Axes>"
      ]
     },
     "metadata": {},
     "output_type": "display_data"
    }
   ],
   "source": [
    "plt.figure(figsize=(10, 10))\n",
    "plt.barh(X.columns[dtc.feature_importances_ > 0], dtc.feature_importances_[dtc.feature_importances_ > 0])\n",
    "plt.title(\"Attribute importance for DTC\")\n",
    "plt.xlabel(\"Fractional contribution to predictive power\")\n",
    "plt.show()"
   ]
  },
  {
   "cell_type": "code",
   "execution_count": 12,
   "metadata": {
    "execution": {
     "iopub.execute_input": "2022-04-03T08:10:07.425988Z",
     "iopub.status.busy": "2022-04-03T08:10:07.425201Z",
     "iopub.status.idle": "2022-04-03T08:10:07.689392Z",
     "shell.execute_reply": "2022-04-03T08:10:07.688747Z",
     "shell.execute_reply.started": "2022-04-03T08:10:07.425903Z"
    }
   },
   "outputs": [
    {
     "data": {
      "text/plain": [
       "<AxesSubplot:>"
      ]
     },
     "execution_count": 12,
     "metadata": {},
     "output_type": "execute_result"
    },
    {
     "data": {
      "image/png": "[encoded data removed]",
      "text/plain": [
       "<Figure size 432x288 with 2 Axes>"
      ]
     },
     "metadata": {},
     "output_type": "display_data"
    }
   ],
   "source": [
    "dtc_cfmt = confusion_matrix(test_y, dtc.predict(test_X))\n",
    "sns.heatmap(dtc_cfmt, annot=True)"
   ]
  },
  {
   "cell_type": "markdown",
   "metadata": {},
   "source": [
    "### Random Forest Model"
   ]
  },
  {
   "cell_type": "code",
   "execution_count": 13,
   "metadata": {
    "execution": {
     "iopub.execute_input": "2022-04-03T08:10:07.691774Z",
     "iopub.status.busy": "2022-04-03T08:10:07.690552Z",
     "iopub.status.idle": "2022-04-03T08:10:07.981585Z",
     "shell.execute_reply": "2022-04-03T08:10:07.980638Z",
     "shell.execute_reply.started": "2022-04-03T08:10:07.691724Z"
    }
   },
   "outputs": [
    {
     "name": "stdout",
     "output_type": "stream",
     "text": [
      "Training accuracy: 100.00%\n",
      "Validation accuracy: 100.00%\n",
      "Test accuracy: 61.54%\n"
     ]
    },
    {
     "data": {
      "text/plain": [
       "<AxesSubplot:>"
      ]
     },
     "execution_count": 13,
     "metadata": {},
     "output_type": "execute_result"
    },
    {
     "data": {
      "image/png": "[encoded data removed]",
      "text/plain": [
       "<Figure size 432x288 with 2 Axes>"
      ]
     },
     "metadata": {},
     "output_type": "display_data"
    }
   ],
   "source": [
    "rfc = RandomForestClassifier(random_state=seed, n_estimators=100).fit(train_valid_X, train_valid_y)\n",
    "print(f'Training accuracy: {100 * rfc.score(train_X, train_y):.2f}%')\n",
    "print(f'Validation accuracy: {100 * rfc.score(valid_X, valid_y):.2f}%')\n",
    "print(f'Test accuracy: {100 * rfc.score(test_X, test_y):.2f}%')\n",
    "rfc_cfmt = confusion_matrix(test_y, rfc.predict(test_X))\n",
    "sns.heatmap(rfc_cfmt, annot=True)"
   ]
  },
  {
   "cell_type": "markdown",
   "metadata": {},
   "source": [
    "### Principal Component Analysis + Random Forest"
   ]
  },
  {
   "cell_type": "code",
   "execution_count": 14,
   "metadata": {
    "execution": {
     "iopub.execute_input": "2022-04-03T08:10:08.267013Z",
     "iopub.status.busy": "2022-04-03T08:10:08.266767Z",
     "iopub.status.idle": "2022-04-03T08:10:08.389253Z",
     "shell.execute_reply": "2022-04-03T08:10:08.388323Z",
     "shell.execute_reply.started": "2022-04-03T08:10:08.266986Z"
    }
   },
   "outputs": [
    {
     "name": "stdout",
     "output_type": "stream",
     "text": [
      "Training accuracy: 100.00%\n",
      "Validation accuracy: 100.00%\n",
      "Test accuracy: 53.85%\n"
     ]
    },
    {
     "data": {
      "text/plain": [
       "<AxesSubplot:>"
      ]
     },
     "execution_count": 14,
     "metadata": {},
     "output_type": "execute_result"
    },
    {
     "data": {
      "image/png": "[encoded data removed]",
      "text/plain": [
       "<Figure size 432x288 with 2 Axes>"
      ]
     },
     "metadata": {},
     "output_type": "display_data"
    }
   ],
   "source": [
    "pca = PCA()\n",
    "pca_X = pca.fit_transform(X)\n",
    "pca_tv_X, pca_test_X, pca_tv_y, pca_test_y = train_test_split(pca_X, y, test_size=0.1, random_state=seed, stratify=y)\n",
    "pca_train_X, pca_valid_X, pca_train_y, pca_valid_y = train_test_split(pca_tv_X, pca_tv_y, test_size=1/9, random_state=seed, stratify=pca_tv_y)\n",
    "pcarfc = RandomForestClassifier(random_state=seed, n_estimators=100).fit(pca_tv_X, pca_tv_y)\n",
    "print(f'Training accuracy: {100 * pcarfc.score(pca_train_X, pca_train_y):.2f}%')\n",
    "print(f'Validation accuracy: {100 * pcarfc.score(pca_valid_X, pca_valid_y):.2f}%')\n",
    "print(f'Test accuracy: {100 * pcarfc.score(pca_test_X, pca_test_y):.2f}%')\n",
    "pcarfc_cfmt = confusion_matrix(pca_test_y, pcarfc.predict(pca_test_X))\n",
    "sns.heatmap(pcarfc_cfmt, annot=True)"
   ]
  },
  {
   "cell_type": "markdown",
   "metadata": {},
   "source": [
    "### Linear Discriminant Analysis"
   ]
  },
  {
   "cell_type": "code",
   "execution_count": 15,
   "metadata": {
    "execution": {
     "iopub.execute_input": "2022-04-03T08:10:08.392058Z",
     "iopub.status.busy": "2022-04-03T08:10:08.391301Z",
     "iopub.status.idle": "2022-04-03T08:10:08.419336Z",
     "shell.execute_reply": "2022-04-03T08:10:08.418394Z",
     "shell.execute_reply.started": "2022-04-03T08:10:08.392003Z"
    }
   },
   "outputs": [
    {
     "name": "stdout",
     "output_type": "stream",
     "text": [
      "Training accuracy: 91.12%\n",
      "Validation accuracy: 36.84%\n",
      "Test accuracy: 46.15%\n"
     ]
    }
   ],
   "source": [
    "lda = LinearDiscriminantAnalysis().fit(train_X, train_y)\n",
    "print(f'Training accuracy: {100 * lda.score(train_X, train_y):.2f}%')\n",
    "print(f'Validation accuracy: {100 * lda.score(valid_X, valid_y):.2f}%')\n",
    "print(f'Test accuracy: {100 * lda.score(test_X, test_y):.2f}%')"
   ]
  },
  {
   "cell_type": "markdown",
   "metadata": {},
   "source": [
    "### Quadratic Discriminant Analysis"
   ]
  },
  {
   "cell_type": "code",
   "execution_count": 16,
   "metadata": {
    "execution": {
     "iopub.execute_input": "2022-04-03T08:10:08.42212Z",
     "iopub.status.busy": "2022-04-03T08:10:08.421397Z",
     "iopub.status.idle": "2022-04-03T08:10:08.477728Z",
     "shell.execute_reply": "2022-04-03T08:10:08.47675Z",
     "shell.execute_reply.started": "2022-04-03T08:10:08.422067Z"
    }
   },
   "outputs": [
    {
     "name": "stdout",
     "output_type": "stream",
     "text": [
      "Training accuracy: 100.00%\n",
      "Validation accuracy: 100.00%\n",
      "Test accuracy: 51.28%\n"
     ]
    },
    {
     "name": "stderr",
     "output_type": "stream",
     "text": [
      "C:\\Users\\HP\\Anaconda3\\envs\\AI-env\\lib\\site-packages\\sklearn\\discriminant_analysis.py:878: UserWarning: Variables are collinear\n",
      "  warnings.warn(\"Variables are collinear\")\n"
     ]
    }
   ],
   "source": [
    "qda = QuadraticDiscriminantAnalysis().fit(train_valid_X, train_valid_y)\n",
    "print(f'Training accuracy: {100 * qda.score(train_X, train_y):.2f}%')\n",
    "print(f'Validation accuracy: {100 * qda.score(valid_X, valid_y):.2f}%')\n",
    "print(f'Test accuracy: {100 * qda.score(test_X, test_y):.2f}%')"
   ]
  },
  {
   "cell_type": "markdown",
   "metadata": {},
   "source": [
    "### Logistic Regression Model"
   ]
  },
  {
   "cell_type": "code",
   "execution_count": 17,
   "metadata": {
    "execution": {
     "iopub.execute_input": "2022-04-03T08:10:08.48655Z",
     "iopub.status.busy": "2022-04-03T08:10:08.483681Z",
     "iopub.status.idle": "2022-04-03T08:10:08.558889Z",
     "shell.execute_reply": "2022-04-03T08:10:08.557916Z",
     "shell.execute_reply.started": "2022-04-03T08:10:08.48648Z"
    },
    "scrolled": true
   },
   "outputs": [
    {
     "name": "stdout",
     "output_type": "stream",
     "text": [
      "Training accuracy: 76.97%\n",
      "Validation accuracy: 63.16%\n",
      "Test accuracy: 51.28%\n"
     ]
    }
   ],
   "source": [
    "lrg = SGDClassifier(random_state=seed, loss='log',\n",
    "                       early_stopping=True, \n",
    "                       validation_fraction=1/9).fit(train_valid_X, train_valid_y)\n",
    "print(f'Training accuracy: {100 * lrg.score(train_X, train_y):.2f}%')\n",
    "print(f'Validation accuracy: {100 * lrg.score(valid_X, valid_y):.2f}%')\n",
    "print(f'Test accuracy: {100 * lrg.score(test_X, test_y):.2f}%')"
   ]
  },
  {
   "cell_type": "markdown",
   "metadata": {},
   "source": [
    "### Multilayer Classifier Model"
   ]
  },
  {
   "cell_type": "code",
   "execution_count": 18,
   "metadata": {
    "execution": {
     "iopub.execute_input": "2022-04-03T08:10:08.567838Z",
     "iopub.status.busy": "2022-04-03T08:10:08.564835Z",
     "iopub.status.idle": "2022-04-03T08:10:08.676047Z",
     "shell.execute_reply": "2022-04-03T08:10:08.674427Z",
     "shell.execute_reply.started": "2022-04-03T08:10:08.567765Z"
    }
   },
   "outputs": [
    {
     "name": "stdout",
     "output_type": "stream",
     "text": [
      "Training accuracy: 69.74%\n",
      "Validation accuracy: 73.68%"
     ]
    },
    {
     "name": "stderr",
     "output_type": "stream",
     "text": [
      "C:\\Users\\HP\\Anaconda3\\envs\\AI-env\\lib\\site-packages\\sklearn\\base.py:451: UserWarning: X does not have valid feature names, but MLPClassifier was fitted with feature names\n",
      "  \"X does not have valid feature names, but\"\n",
      "C:\\Users\\HP\\Anaconda3\\envs\\AI-env\\lib\\site-packages\\sklearn\\base.py:451: UserWarning: X does not have valid feature names, but MLPClassifier was fitted with feature names\n",
      "  \"X does not have valid feature names, but\"\n",
      "C:\\Users\\HP\\Anaconda3\\envs\\AI-env\\lib\\site-packages\\sklearn\\base.py:451: UserWarning: X does not have valid feature names, but MLPClassifier was fitted with feature names\n",
      "  \"X does not have valid feature names, but\"\n",
      "C:\\Users\\HP\\Anaconda3\\envs\\AI-env\\lib\\site-packages\\sklearn\\base.py:451: UserWarning: X does not have valid feature names, but MLPClassifier was fitted with feature names\n",
      "  \"X does not have valid feature names, but\"\n",
      "C:\\Users\\HP\\Anaconda3\\envs\\AI-env\\lib\\site-packages\\sklearn\\base.py:451: UserWarning: X does not have valid feature names, but MLPClassifier was fitted with feature names\n",
      "  \"X does not have valid feature names, but\"\n",
      "C:\\Users\\HP\\Anaconda3\\envs\\AI-env\\lib\\site-packages\\sklearn\\base.py:451: UserWarning: X does not have valid feature names, but MLPClassifier was fitted with feature names\n",
      "  \"X does not have valid feature names, but\"\n",
      "C:\\Users\\HP\\Anaconda3\\envs\\AI-env\\lib\\site-packages\\sklearn\\base.py:451: UserWarning: X does not have valid feature names, but MLPClassifier was fitted with feature names\n",
      "  \"X does not have valid feature names, but\"\n",
      "C:\\Users\\HP\\Anaconda3\\envs\\AI-env\\lib\\site-packages\\sklearn\\base.py:451: UserWarning: X does not have valid feature names, but MLPClassifier was fitted with feature names\n",
      "  \"X does not have valid feature names, but\"\n",
      "C:\\Users\\HP\\Anaconda3\\envs\\AI-env\\lib\\site-packages\\sklearn\\base.py:451: UserWarning: X does not have valid feature names, but MLPClassifier was fitted with feature names\n",
      "  \"X does not have valid feature names, but\"\n",
      "C:\\Users\\HP\\Anaconda3\\envs\\AI-env\\lib\\site-packages\\sklearn\\base.py:451: UserWarning: X does not have valid feature names, but MLPClassifier was fitted with feature names\n",
      "  \"X does not have valid feature names, but\"\n",
      "C:\\Users\\HP\\Anaconda3\\envs\\AI-env\\lib\\site-packages\\sklearn\\base.py:451: UserWarning: X does not have valid feature names, but MLPClassifier was fitted with feature names\n",
      "  \"X does not have valid feature names, but\"\n",
      "C:\\Users\\HP\\Anaconda3\\envs\\AI-env\\lib\\site-packages\\sklearn\\base.py:451: UserWarning: X does not have valid feature names, but MLPClassifier was fitted with feature names\n",
      "  \"X does not have valid feature names, but\"\n",
      "C:\\Users\\HP\\Anaconda3\\envs\\AI-env\\lib\\site-packages\\sklearn\\base.py:451: UserWarning: X does not have valid feature names, but MLPClassifier was fitted with feature names\n",
      "  \"X does not have valid feature names, but\"\n",
      "C:\\Users\\HP\\Anaconda3\\envs\\AI-env\\lib\\site-packages\\sklearn\\base.py:451: UserWarning: X does not have valid feature names, but MLPClassifier was fitted with feature names\n",
      "  \"X does not have valid feature names, but\"\n",
      "C:\\Users\\HP\\Anaconda3\\envs\\AI-env\\lib\\site-packages\\sklearn\\base.py:451: UserWarning: X does not have valid feature names, but MLPClassifier was fitted with feature names\n",
      "  \"X does not have valid feature names, but\"\n",
      "C:\\Users\\HP\\Anaconda3\\envs\\AI-env\\lib\\site-packages\\sklearn\\base.py:451: UserWarning: X does not have valid feature names, but MLPClassifier was fitted with feature names\n",
      "  \"X does not have valid feature names, but\"\n",
      "C:\\Users\\HP\\Anaconda3\\envs\\AI-env\\lib\\site-packages\\sklearn\\base.py:451: UserWarning: X does not have valid feature names, but MLPClassifier was fitted with feature names\n",
      "  \"X does not have valid feature names, but\"\n",
      "C:\\Users\\HP\\Anaconda3\\envs\\AI-env\\lib\\site-packages\\sklearn\\base.py:451: UserWarning: X does not have valid feature names, but MLPClassifier was fitted with feature names\n",
      "  \"X does not have valid feature names, but\"\n"
     ]
    },
    {
     "name": "stdout",
     "output_type": "stream",
     "text": [
      "\n",
      "Test accuracy: 64.10%\n"
     ]
    }
   ],
   "source": [
    "mlp = MLPClassifier((n_features,), random_state=seed,\n",
    "                       early_stopping=True).fit(train_valid_X, train_valid_y)\n",
    "print(f'Training accuracy: {100 * mlp.score(train_X, train_y):.2f}%')\n",
    "print(f'Validation accuracy: {100 * mlp.score(valid_X, valid_y):.2f}%')\n",
    "print(f'Test accuracy: {100 * mlp.score(test_X, test_y):.2f}%')"
   ]
  },
  {
   "cell_type": "code",
   "execution_count": 19,
   "metadata": {
    "execution": {
     "iopub.execute_input": "2022-04-03T08:10:08.678121Z",
     "iopub.status.busy": "2022-04-03T08:10:08.67745Z",
     "iopub.status.idle": "2022-04-03T08:10:08.684449Z",
     "shell.execute_reply": "2022-04-03T08:10:08.683413Z",
     "shell.execute_reply.started": "2022-04-03T08:10:08.678073Z"
    }
   },
   "outputs": [],
   "source": [
    "class MLP(nn.Module):\n",
    "    def __init__(self, n_features, n_classes):\n",
    "        super(MLP, self).__init__()\n",
    "        self.classifier = nn.Sequential(nn.Linear(n_features, n_features // 4),\n",
    "                                        nn.ReLU(),\n",
    "                                        nn.Linear(n_features // 4, n_classes)\n",
    "                                       )\n",
    "    \n",
    "    def forward(self, x):\n",
    "        logits = self.classifier(x)\n",
    "        probs = nn.functional.softmax(logits, dim=1)\n",
    "        return logits, probs"
   ]
  },
  {
   "cell_type": "code",
   "execution_count": 20,
   "metadata": {
    "execution": {
     "iopub.execute_input": "2022-04-03T08:10:08.685847Z",
     "iopub.status.busy": "2022-04-03T08:10:08.685586Z",
     "iopub.status.idle": "2022-04-03T08:10:08.700019Z",
     "shell.execute_reply": "2022-04-03T08:10:08.699066Z",
     "shell.execute_reply.started": "2022-04-03T08:10:08.685809Z"
    }
   },
   "outputs": [],
   "source": [
    "model = MLP(n_features, n_classes).to(device)\n",
    "optimizer = torch.optim.Adam(model.parameters(), lr=lr, weight_decay=5e-2)\n",
    "criterion = nn.CrossEntropyLoss().to(device)"
   ]
  },
  {
   "cell_type": "code",
   "execution_count": 21,
   "metadata": {
    "execution": {
     "iopub.execute_input": "2022-04-03T08:10:08.701213Z",
     "iopub.status.busy": "2022-04-03T08:10:08.700981Z",
     "iopub.status.idle": "2022-04-03T08:10:08.712682Z",
     "shell.execute_reply": "2022-04-03T08:10:08.711562Z",
     "shell.execute_reply.started": "2022-04-03T08:10:08.701183Z"
    }
   },
   "outputs": [],
   "source": [
    "def get_accuracy(model, data_loader, device='cpu'):\n",
    "    correct_pred = 0 \n",
    "    n = 0\n",
    "    \n",
    "    with torch.no_grad():\n",
    "        model.eval()\n",
    "        for X, y in data_loader:\n",
    "            X = X.to(device=device, dtype=torch.float)\n",
    "            y = y.to(device=device, dtype=torch.long)\n",
    "            _, y_prob = model(X)\n",
    "            _, predicted_labels = torch.max(y_prob, 1)\n",
    "            n += y.size(0)\n",
    "            correct_pred += (predicted_labels == y).sum()\n",
    "\n",
    "    return float(correct_pred) / n"
   ]
  },
  {
   "cell_type": "code",
   "execution_count": 22,
   "metadata": {
    "execution": {
     "iopub.execute_input": "2022-04-03T08:10:08.714137Z",
     "iopub.status.busy": "2022-04-03T08:10:08.713895Z",
     "iopub.status.idle": "2022-04-03T08:10:08.72611Z",
     "shell.execute_reply": "2022-04-03T08:10:08.725075Z",
     "shell.execute_reply.started": "2022-04-03T08:10:08.714107Z"
    }
   },
   "outputs": [],
   "source": [
    "def train(model, optimizer, criterion, device='cpu'):\n",
    "    model.train()\n",
    "    train_loss = 0\n",
    "    for X, y in train_loader:\n",
    "        optimizer.zero_grad()\n",
    "        X = X.to(device=device, dtype=torch.float)\n",
    "        y = y.to(device=device, dtype=torch.long)\n",
    "        y_pred, _ = model(X)\n",
    "        loss = criterion(y_pred, y.long())\n",
    "        train_loss += loss.item() * X.size(0)\n",
    "        \n",
    "        loss.backward()\n",
    "        optimizer.step()\n",
    "    \n",
    "    epoch_loss = train_loss / len(train_X)\n",
    "    return epoch_loss"
   ]
  },
  {
   "cell_type": "code",
   "execution_count": 23,
   "metadata": {
    "execution": {
     "iopub.execute_input": "2022-04-03T08:10:08.727622Z",
     "iopub.status.busy": "2022-04-03T08:10:08.727373Z",
     "iopub.status.idle": "2022-04-03T08:10:08.743729Z",
     "shell.execute_reply": "2022-04-03T08:10:08.742652Z",
     "shell.execute_reply.started": "2022-04-03T08:10:08.727591Z"
    }
   },
   "outputs": [],
   "source": [
    "def validate(model, optimizer, criterion, device='cpu'):\n",
    "    model.eval()\n",
    "    valid_loss = 0\n",
    "    for X, y in valid_loader:\n",
    "        optimizer.zero_grad()\n",
    "        X = X.to(device=device, dtype=torch.float)\n",
    "        y = y.to(device=device, dtype=torch.long)\n",
    "        y_pred, _ = model(X)\n",
    "        loss = criterion(y_pred, y)\n",
    "        valid_loss += loss.item() * X.size(0)\n",
    "    \n",
    "    epoch_loss = valid_loss / len(valid_X)\n",
    "    return epoch_loss"
   ]
  },
  {
   "cell_type": "code",
   "execution_count": 24,
   "metadata": {
    "execution": {
     "iopub.execute_input": "2022-04-03T08:10:08.745732Z",
     "iopub.status.busy": "2022-04-03T08:10:08.745398Z",
     "iopub.status.idle": "2022-04-03T08:10:08.756704Z",
     "shell.execute_reply": "2022-04-03T08:10:08.755486Z",
     "shell.execute_reply.started": "2022-04-03T08:10:08.745688Z"
    }
   },
   "outputs": [],
   "source": [
    "def train_and_validate(model, optimizer, criterion, epochs=50, device='cpu', print_every=5):\n",
    "    train_losses = []\n",
    "    valid_losses = []\n",
    " \n",
    "    for epoch in range(epochs):\n",
    "        # training\n",
    "        train_loss = train(model, optimizer, criterion, device)\n",
    "        train_losses.append(train_loss)\n",
    "\n",
    "        # validation\n",
    "        with torch.no_grad():\n",
    "            valid_loss = validate(model, optimizer, criterion, device)\n",
    "            valid_losses.append(valid_loss)\n",
    "\n",
    "        if epoch % print_every == (print_every - 1):\n",
    "            train_acc = get_accuracy(model, train_loader, device)\n",
    "            valid_acc = get_accuracy(model, valid_loader, device)\n",
    "            print(f'Epoch: {epoch:>2}\\t'\n",
    "                  f'Train loss: {train_loss:.4f}\\t'\n",
    "                  f'Valid loss: {valid_loss:.4f}\\t'\n",
    "                  f'Train accuracy: {100 * train_acc:.2f}%\\t'\n",
    "                  f'Valid accuracy: {100 * valid_acc:.2f}%')\n",
    "    \n",
    "    return train_losses, valid_losses"
   ]
  },
  {
   "cell_type": "code",
   "execution_count": 25,
   "metadata": {
    "execution": {
     "iopub.execute_input": "2022-04-03T08:10:08.760778Z",
     "iopub.status.busy": "2022-04-03T08:10:08.7602Z",
     "iopub.status.idle": "2022-04-03T08:10:09.398321Z",
     "shell.execute_reply": "2022-04-03T08:10:09.397464Z",
     "shell.execute_reply.started": "2022-04-03T08:10:08.760725Z"
    },
    "scrolled": true
   },
   "outputs": [
    {
     "name": "stdout",
     "output_type": "stream",
     "text": [
      "Epoch:  4\tTrain loss: 0.8656\tValid loss: 0.8348\tTrain accuracy: 68.42%\tValid accuracy: 60.53%\n",
      "Epoch:  9\tTrain loss: 0.7535\tValid loss: 0.7903\tTrain accuracy: 70.39%\tValid accuracy: 60.53%\n",
      "Epoch: 14\tTrain loss: 0.6900\tValid loss: 0.7809\tTrain accuracy: 73.36%\tValid accuracy: 60.53%\n",
      "Epoch: 19\tTrain loss: 0.6475\tValid loss: 0.7723\tTrain accuracy: 75.33%\tValid accuracy: 60.53%\n",
      "Epoch: 24\tTrain loss: 0.6128\tValid loss: 0.7815\tTrain accuracy: 77.96%\tValid accuracy: 55.26%\n",
      "Epoch: 29\tTrain loss: 0.5759\tValid loss: 0.7940\tTrain accuracy: 79.93%\tValid accuracy: 57.89%\n",
      "Epoch: 34\tTrain loss: 0.5441\tValid loss: 0.7977\tTrain accuracy: 84.54%\tValid accuracy: 55.26%\n"
     ]
    }
   ],
   "source": [
    "train_losses, valid_losses = train_and_validate(model, optimizer, criterion, epochs, device)"
   ]
  },
  {
   "cell_type": "code",
   "execution_count": 26,
   "metadata": {
    "execution": {
     "iopub.execute_input": "2022-04-03T08:10:09.400381Z",
     "iopub.status.busy": "2022-04-03T08:10:09.399654Z",
     "iopub.status.idle": "2022-04-03T08:10:09.690108Z",
     "shell.execute_reply": "2022-04-03T08:10:09.68924Z",
     "shell.execute_reply.started": "2022-04-03T08:10:09.400313Z"
    }
   },
   "outputs": [
    {
     "data": {
      "image/png": "[encoded data removed]",
      "text/plain": [
       "<Figure size 432x288 with 1 Axes>"
      ]
     },
     "metadata": {},
     "output_type": "display_data"
    }
   ],
   "source": [
    "sns.lineplot(x=list(range(epochs)), y=train_losses, label='Training loss')\n",
    "sns.lineplot(x=list(range(epochs)), y=valid_losses, label='Validation loss')\n",
    "plt.title('Loss over epochs', fontweight='bold')\n",
    "plt.xlabel('Epoch')\n",
    "plt.ylabel('Loss')\n",
    "plt.show()"
   ]
  },
  {
   "cell_type": "code",
   "execution_count": 27,
   "metadata": {
    "execution": {
     "iopub.execute_input": "2022-04-03T08:10:09.692243Z",
     "iopub.status.busy": "2022-04-03T08:10:09.691751Z",
     "iopub.status.idle": "2022-04-03T08:10:09.699335Z",
     "shell.execute_reply": "2022-04-03T08:10:09.698693Z",
     "shell.execute_reply.started": "2022-04-03T08:10:09.692208Z"
    }
   },
   "outputs": [
    {
     "name": "stdout",
     "output_type": "stream",
     "text": [
      "Testing Accuracy: 64.10%\n"
     ]
    }
   ],
   "source": [
    "test_dataset = DCCADataset(test_X, test_y)\n",
    "test_loader = DataLoader(test_dataset, batch_size, shuffle=False)\n",
    "\n",
    "test_accuracy = get_accuracy(model, test_loader, device)\n",
    "print(f'Testing Accuracy: {100 * test_accuracy:.2f}%')"
   ]
  },
  {
   "cell_type": "markdown",
   "metadata": {},
   "source": [
    "## Predicting 2016 Results Using 2012 Model"
   ]
  },
  {
   "cell_type": "code",
   "execution_count": 28,
   "metadata": {
    "execution": {
     "iopub.execute_input": "2022-04-03T08:10:09.700842Z",
     "iopub.status.busy": "2022-04-03T08:10:09.700278Z",
     "iopub.status.idle": "2022-04-03T08:10:09.719946Z",
     "shell.execute_reply": "2022-04-03T08:10:09.718963Z",
     "shell.execute_reply.started": "2022-04-03T08:10:09.700808Z"
    }
   },
   "outputs": [],
   "source": [
    "year = 2012\n",
    "if year == 2012:\n",
    "    X = dcca_11c.drop(['ca_chi', 'legco2012_winner', 'legco2016_winner'], axis=1)\n",
    "    try:\n",
    "        y = le_legco_winner_party.transform(dcca_11c['legco2016_winner'])\n",
    "    except ValueError:\n",
    "        y = le_legco_winner_bloc.transform(dcca_11c['legco2016_winner'])\n",
    "else:\n",
    "    X = dcca_16bc.drop(['ca_chi', 'legco2016_winner'], axis=1)\n",
    "    try:\n",
    "        y = le_legco_winner_party.transform(dcca_16bc['legco2016_winner'])\n",
    "    except ValueError:\n",
    "        y = le_legco_winner_bloc.transform(dcca_16bc['legco2016_winner'])\n",
    "if need_scaler:\n",
    "    X[X.columns] = scaler.transform(X)"
   ]
  },
  {
   "cell_type": "code",
   "execution_count": 29,
   "metadata": {
    "execution": {
     "iopub.execute_input": "2022-04-03T08:10:09.72146Z",
     "iopub.status.busy": "2022-04-03T08:10:09.721189Z",
     "iopub.status.idle": "2022-04-03T08:10:09.774557Z",
     "shell.execute_reply": "2022-04-03T08:10:09.7735Z",
     "shell.execute_reply.started": "2022-04-03T08:10:09.721429Z"
    }
   },
   "outputs": [
    {
     "name": "stdout",
     "output_type": "stream",
     "text": [
      "Decision Tree Accuracy: 49.87%\n",
      "Random Forest Accuracy: 50.13%\n",
      "PCA Accuracy: 48.82%\n",
      "LDA Accuracy: 47.24%\n",
      "QDA Accuracy: 51.97%\n",
      "Logistic Regression Accuracy: 50.39%\n",
      "Multilayer Perceptron Accuracy: 51.97%\n"
     ]
    }
   ],
   "source": [
    "print(f'Decision Tree Accuracy: {dtc.score(X, y) * 100:.2f}%')\n",
    "print(f'Random Forest Accuracy: {rfc.score(X, y) * 100:.2f}%')\n",
    "print(f'PCA Accuracy: {pcarfc.score(pca.transform(X), y) * 100:.2f}%')\n",
    "print(f'LDA Accuracy: {lda.score(X, y) * 100:.2f}%')\n",
    "print(f'QDA Accuracy: {qda.score(X, y) * 100:.2f}%')\n",
    "print(f'Logistic Regression Accuracy: {lrg.score(X, y) * 100:.2f}%')\n",
    "print(f'Multilayer Perceptron Accuracy: {mlp.score(X, y) * 100:.2f}%')"
   ]
  },
  {
   "cell_type": "code",
   "execution_count": 30,
   "metadata": {
    "execution": {
     "iopub.execute_input": "2022-04-03T08:10:09.776615Z",
     "iopub.status.busy": "2022-04-03T08:10:09.776153Z",
     "iopub.status.idle": "2022-04-03T08:10:09.798798Z",
     "shell.execute_reply": "2022-04-03T08:10:09.797817Z",
     "shell.execute_reply.started": "2022-04-03T08:10:09.776564Z"
    }
   },
   "outputs": [
    {
     "name": "stdout",
     "output_type": "stream",
     "text": [
      "PyTorch MLP Accuracy: 53.02%\n"
     ]
    }
   ],
   "source": [
    "dataset = DCCADataset(X, y)\n",
    "loader = DataLoader(dataset, batch_size, shuffle=False)\n",
    "\n",
    "accuracy = get_accuracy(model, loader, device)\n",
    "print(f'PyTorch MLP Accuracy: {100 * accuracy:.2f}%')"
   ]
  },
  {
   "cell_type": "markdown",
   "metadata": {},
   "source": [
    "We see that the models' performance are similar to random guessing, even after normalization of the dataset. Especially, from the 2012 test data, we can see that the model actually cannot discriminate the classes '0' (Democrats) and '1' (Pro-establishment bloc). This may actually be a surprising phenomenon."
   ]
  },
  {
   "cell_type": "code",
   "execution_count": 31,
   "metadata": {},
   "outputs": [],
   "source": [
    "try:\n",
    "    dtc_pred = le_legco_winner_party.inverse_transform(dtc.predict(X))\n",
    "    rfc_pred = le_legco_winner_party.inverse_transform(rfc.predict(X))\n",
    "    pca_pred = le_legco_winner_party.inverse_transform(pcarfc.predict(pca.transform(X)))\n",
    "    lda_pred = le_legco_winner_party.inverse_transform(lda.predict(X))\n",
    "    qda_pred = le_legco_winner_party.inverse_transform(qda.predict(X))\n",
    "    lrg_pred = le_legco_winner_party.inverse_transform(lrg.predict(X))\n",
    "    mlp_pred = le_legco_winner_party.inverse_transform(mlp.predict(X))\n",
    "except:\n",
    "    dtc_pred = le_legco_winner_bloc.inverse_transform(dtc.predict(X))\n",
    "    rfc_pred = le_legco_winner_bloc.inverse_transform(rfc.predict(X))\n",
    "    pca_pred = le_legco_winner_bloc.inverse_transform(pcarfc.predict(pca.transform(X)))\n",
    "    lda_pred = le_legco_winner_bloc.inverse_transform(lda.predict(X))\n",
    "    qda_pred = le_legco_winner_bloc.inverse_transform(qda.predict(X))\n",
    "    lrg_pred = le_legco_winner_bloc.inverse_transform(lrg.predict(X))\n",
    "    mlp_pred = le_legco_winner_bloc.inverse_transform(mlp.predict(X))"
   ]
  },
  {
   "cell_type": "code",
   "execution_count": 32,
   "metadata": {},
   "outputs": [],
   "source": [
    "model_pred = np.array([])\n",
    "with torch.no_grad():\n",
    "    model.eval()\n",
    "    for X_, y_ in loader:\n",
    "        X_ = X_.to(device=device, dtype=torch.float)\n",
    "        y_ = y_.to(device=device, dtype=torch.long)\n",
    "        _, y_prob = model(X_)\n",
    "        _, predicted_labels = torch.max(y_prob, 1)\n",
    "        model_pred = np.concatenate((model_pred, predicted_labels.detach().cpu().numpy()), axis=None)\n",
    "try:\n",
    "    model_pred = le_legco_winner_party.inverse_transform(model_pred.astype(int))\n",
    "except:\n",
    "    model_pred = le_legco_winner_bloc.inverse_transform(model_pred.astype(int))"
   ]
  },
  {
   "cell_type": "code",
   "execution_count": 33,
   "metadata": {},
   "outputs": [],
   "source": [
    "prediction = pd.DataFrame({'ca_chi': dcca_11c['ca_chi'],\n",
    "                           'dtc': dtc_pred,\n",
    "                           'rfc': rfc_pred,\n",
    "                           'pca': pca_pred,\n",
    "                           'lda': lda_pred,\n",
    "                           'qda': qda_pred,\n",
    "                           'logreg': lrg_pred,\n",
    "                           'mlp': mlp_pred,\n",
    "                           'torch_mlp': model_pred,\n",
    "                           'label': dcca_11c['legco2016_winner']\n",
    "                          }).set_index('ca_chi')\n",
    "prediction.to_csv('prediction.csv', encoding='utf-8-sig')"
   ]
  }
 ],
 "metadata": {
  "kernelspec": {
   "display_name": "Python 3 (ipykernel)",
   "language": "python",
   "name": "python3"
  },
  "language_info": {
   "codemirror_mode": {
    "name": "ipython",
    "version": 3
   },
   "file_extension": ".py",
   "mimetype": "text/x-python",
   "name": "python",
   "nbconvert_exporter": "python",
   "pygments_lexer": "ipython3",
   "version": "3.7.11"
  }
 },
 "nbformat": 4,
 "nbformat_minor": 4
}
