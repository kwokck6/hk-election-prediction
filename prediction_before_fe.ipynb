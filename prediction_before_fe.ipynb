{
 "cells": [
  {
   "cell_type": "markdown",
   "metadata": {},
   "source": [
    "# Prediction before feature engineering"
   ]
  },
  {
   "cell_type": "code",
   "execution_count": 1,
   "metadata": {
    "execution": {
     "iopub.execute_input": "2022-04-03T08:08:35.966709Z",
     "iopub.status.busy": "2022-04-03T08:08:35.966444Z",
     "iopub.status.idle": "2022-04-03T08:08:36.856026Z",
     "shell.execute_reply": "2022-04-03T08:08:36.85539Z",
     "shell.execute_reply.started": "2022-04-03T08:08:35.966634Z"
    }
   },
   "outputs": [],
   "source": [
    "import pandas as pd\n",
    "import torch\n",
    "import torch.nn as nn\n",
    "import numpy as np\n",
    "from torch.utils.data import DataLoader, Dataset\n",
    "from sklearn.preprocessing import LabelEncoder, MinMaxScaler, StandardScaler\n",
    "from sklearn.decomposition import PCA\n",
    "from sklearn.discriminant_analysis import LinearDiscriminantAnalysis, QuadraticDiscriminantAnalysis\n",
    "from sklearn.linear_model import SGDClassifier\n",
    "from sklearn.neural_network import MLPClassifier\n",
    "from sklearn.model_selection import train_test_split\n",
    "from sklearn.cluster import AffinityPropagation\n",
    "from sklearn.tree import DecisionTreeClassifier\n",
    "from sklearn.ensemble import AdaBoostClassifier, RandomForestClassifier\n",
    "from sklearn.metrics import accuracy_score, confusion_matrix\n",
    "import seaborn as sns\n",
    "import matplotlib.pyplot as plt"
   ]
  },
  {
   "cell_type": "code",
   "execution_count": 2,
   "metadata": {
    "execution": {
     "iopub.execute_input": "2022-04-03T08:08:36.857434Z",
     "iopub.status.busy": "2022-04-03T08:08:36.857125Z",
     "iopub.status.idle": "2022-04-03T08:08:36.862742Z",
     "shell.execute_reply": "2022-04-03T08:08:36.861979Z",
     "shell.execute_reply.started": "2022-04-03T08:08:36.857408Z"
    }
   },
   "outputs": [],
   "source": [
    "sns.set()\n",
    "seed = 0\n",
    "lr = 0.001\n",
    "batch_size = 16\n",
    "epochs = 35\n",
    "device = 'cuda' if torch.cuda.is_available() else 'cpu'\n",
    "pol_parties = ['ADPL', 'BPA', 'CIV', 'CivP', 'CivPass', 'DAB', 'DP', 'Demosisto', 'FTU', 'IND', 'LAB', 'LIB', 'LSD', 'NPP', 'NWSC', 'NeoDem', 'PathDem', 'PeoP', 'Young']\n",
    "blocs = ['CEN', 'DEM', 'EST', 'IND', 'LOC']"
   ]
  },
  {
   "cell_type": "code",
   "execution_count": 3,
   "metadata": {
    "execution": {
     "iopub.execute_input": "2022-04-03T08:08:36.864818Z",
     "iopub.status.busy": "2022-04-03T08:08:36.864264Z",
     "iopub.status.idle": "2022-04-03T08:08:36.915275Z",
     "shell.execute_reply": "2022-04-03T08:08:36.914162Z",
     "shell.execute_reply.started": "2022-04-03T08:08:36.864775Z"
    }
   },
   "outputs": [],
   "source": [
    "dcca_11c = pd.read_csv('dcca_11c_processed.csv')\n",
    "dcca_16bc = pd.read_csv('dcca_16bc_processed.csv')\n",
    "le_legco_winner_party = LabelEncoder().fit(pol_parties)\n",
    "le_legco_winner_bloc = LabelEncoder().fit(blocs)"
   ]
  },
  {
   "cell_type": "code",
   "execution_count": 4,
   "metadata": {
    "execution": {
     "iopub.execute_input": "2022-04-03T08:08:36.917992Z",
     "iopub.status.busy": "2022-04-03T08:08:36.917654Z",
     "iopub.status.idle": "2022-04-03T08:08:36.924568Z",
     "shell.execute_reply": "2022-04-03T08:08:36.923762Z",
     "shell.execute_reply.started": "2022-04-03T08:08:36.917907Z"
    }
   },
   "outputs": [],
   "source": [
    "X = dcca_11c.drop(['ca_chi', 'legco2012_winner', 'legco2016_winner'], axis=1)\n",
    "try:\n",
    "    y = le_legco_winner_party.transform(dcca_11c['legco2012_winner'])\n",
    "except ValueError:\n",
    "    y = le_legco_winner_bloc.transform(dcca_11c['legco2012_winner'])"
   ]
  },
  {
   "cell_type": "code",
   "execution_count": 5,
   "metadata": {
    "execution": {
     "iopub.execute_input": "2022-04-03T08:08:36.926439Z",
     "iopub.status.busy": "2022-04-03T08:08:36.925764Z",
     "iopub.status.idle": "2022-04-03T08:08:36.935367Z",
     "shell.execute_reply": "2022-04-03T08:08:36.934764Z",
     "shell.execute_reply.started": "2022-04-03T08:08:36.926398Z"
    }
   },
   "outputs": [],
   "source": [
    "n_features = len(X.columns)\n",
    "n_classes = len(pol_parties)"
   ]
  },
  {
   "cell_type": "code",
   "execution_count": 6,
   "metadata": {
    "execution": {
     "iopub.execute_input": "2022-04-03T08:08:36.936747Z",
     "iopub.status.busy": "2022-04-03T08:08:36.936377Z",
     "iopub.status.idle": "2022-04-03T08:08:36.991Z",
     "shell.execute_reply": "2022-04-03T08:08:36.990072Z",
     "shell.execute_reply.started": "2022-04-03T08:08:36.936717Z"
    }
   },
   "outputs": [],
   "source": [
    "need_scaler = True\n",
    "if need_scaler:\n",
    "    scaler = StandardScaler().fit(X)\n",
    "    X[X.columns] = scaler.transform(X)"
   ]
  },
  {
   "cell_type": "code",
   "execution_count": 7,
   "metadata": {
    "execution": {
     "iopub.execute_input": "2022-04-03T08:08:36.993288Z",
     "iopub.status.busy": "2022-04-03T08:08:36.992454Z",
     "iopub.status.idle": "2022-04-03T08:08:37.001598Z",
     "shell.execute_reply": "2022-04-03T08:08:37.000302Z",
     "shell.execute_reply.started": "2022-04-03T08:08:36.99324Z"
    }
   },
   "outputs": [],
   "source": [
    "class DCCADataset(Dataset):\n",
    "    def __init__(self, features, targets, transform=None):\n",
    "        self.transform = transform\n",
    "        if self.transform is not None:\n",
    "            self.features = self.transform(features)\n",
    "        else:\n",
    "            self.features = features.to_numpy()\n",
    "        self.targets = targets\n",
    "        self.samples = []\n",
    "        for feature, target in zip(self.features, self.targets):\n",
    "            self.samples.append((feature, target))\n",
    "        \n",
    "    def __len__(self):\n",
    "        return len(self.samples)\n",
    "    \n",
    "    def __getitem__(self, idx):\n",
    "        return self.samples[idx]"
   ]
  },
  {
   "cell_type": "markdown",
   "metadata": {},
   "source": [
    "## Preparing for classification"
   ]
  },
  {
   "cell_type": "code",
   "execution_count": 8,
   "metadata": {
    "execution": {
     "iopub.execute_input": "2022-04-03T08:08:37.155806Z",
     "iopub.status.busy": "2022-04-03T08:08:37.155419Z",
     "iopub.status.idle": "2022-04-03T08:08:37.164589Z",
     "shell.execute_reply": "2022-04-03T08:08:37.163974Z",
     "shell.execute_reply.started": "2022-04-03T08:08:37.15577Z"
    }
   },
   "outputs": [],
   "source": [
    "train_valid_X, test_X, train_valid_y, test_y = train_test_split(X, y, test_size=0.1, random_state=seed)\n",
    "train_X, valid_X, train_y, valid_y = train_test_split(train_valid_X, train_valid_y, test_size=1/9, random_state=seed)"
   ]
  },
  {
   "cell_type": "code",
   "execution_count": 9,
   "metadata": {
    "execution": {
     "iopub.execute_input": "2022-04-03T08:08:37.166559Z",
     "iopub.status.busy": "2022-04-03T08:08:37.166064Z",
     "iopub.status.idle": "2022-04-03T08:08:37.173836Z",
     "shell.execute_reply": "2022-04-03T08:08:37.17308Z",
     "shell.execute_reply.started": "2022-04-03T08:08:37.16652Z"
    }
   },
   "outputs": [],
   "source": [
    "train_dataset = DCCADataset(train_X, train_y)\n",
    "valid_dataset = DCCADataset(valid_X, valid_y)\n",
    "train_loader = DataLoader(train_dataset, batch_size=batch_size, shuffle=True)\n",
    "valid_loader = DataLoader(valid_dataset, batch_size=batch_size, shuffle=False)"
   ]
  },
  {
   "cell_type": "markdown",
   "metadata": {},
   "source": [
    "## Predicting 2012 Results\n",
    "### Decision Tree Model"
   ]
  },
  {
   "cell_type": "code",
   "execution_count": 10,
   "metadata": {
    "execution": {
     "iopub.execute_input": "2022-04-03T08:08:37.175235Z",
     "iopub.status.busy": "2022-04-03T08:08:37.174901Z",
     "iopub.status.idle": "2022-04-03T08:08:37.246056Z",
     "shell.execute_reply": "2022-04-03T08:08:37.245092Z",
     "shell.execute_reply.started": "2022-04-03T08:08:37.175185Z"
    }
   },
   "outputs": [
    {
     "name": "stdout",
     "output_type": "stream",
     "text": [
      "Training accuracy: 100.00%\n",
      "Validation accuracy: 100.00%\n",
      "Test accuracy: 58.97%\n"
     ]
    }
   ],
   "source": [
    "dtc = DecisionTreeClassifier(random_state=seed).fit(train_valid_X, train_valid_y)\n",
    "print(f'Training accuracy: {100 * dtc.score(train_X, train_y):.2f}%')\n",
    "print(f'Validation accuracy: {100 * dtc.score(valid_X, valid_y):.2f}%')\n",
    "print(f'Test accuracy: {100 * dtc.score(test_X, test_y):.2f}%')"
   ]
  },
  {
   "cell_type": "code",
   "execution_count": 11,
   "metadata": {
    "execution": {
     "iopub.execute_input": "2022-04-03T08:08:37.247701Z",
     "iopub.status.busy": "2022-04-03T08:08:37.247447Z",
     "iopub.status.idle": "2022-04-03T08:08:38.071565Z",
     "shell.execute_reply": "2022-04-03T08:08:38.070819Z",
     "shell.execute_reply.started": "2022-04-03T08:08:37.247675Z"
    }
   },
   "outputs": [
    {
     "data": {
      "image/png": "[encoded data removed]",
      "text/plain": [
       "<Figure size 720x720 with 1 Axes>"
      ]
     },
     "metadata": {},
     "output_type": "display_data"
    }
   ],
   "source": [
    "plt.figure(figsize=(10, 10))\n",
    "plt.barh(X.columns[dtc.feature_importances_ > 0], dtc.feature_importances_[dtc.feature_importances_ > 0])\n",
    "plt.title(\"Attribute importance for DTC\")\n",
    "plt.xlabel(\"Fractional contribution to predictive power\")\n",
    "plt.show()"
   ]
  },
  {
   "cell_type": "code",
   "execution_count": 12,
   "metadata": {
    "execution": {
     "iopub.execute_input": "2022-04-03T08:08:38.074718Z",
     "iopub.status.busy": "2022-04-03T08:08:38.074485Z",
     "iopub.status.idle": "2022-04-03T08:08:38.32222Z",
     "shell.execute_reply": "2022-04-03T08:08:38.321525Z",
     "shell.execute_reply.started": "2022-04-03T08:08:38.074691Z"
    }
   },
   "outputs": [
    {
     "data": {
      "text/plain": [
       "<AxesSubplot:>"
      ]
     },
     "execution_count": 12,
     "metadata": {},
     "output_type": "execute_result"
    },
    {
     "data": {
      "image/png": "[encoded data removed]",
      "text/plain": [
       "<Figure size 432x288 with 2 Axes>"
      ]
     },
     "metadata": {},
     "output_type": "display_data"
    }
   ],
   "source": [
    "dtc_cfmt = confusion_matrix(test_y, dtc.predict(test_X))\n",
    "sns.heatmap(dtc_cfmt, annot=True)"
   ]
  },
  {
   "cell_type": "markdown",
   "metadata": {},
   "source": [
    "### Random Forest Model"
   ]
  },
  {
   "cell_type": "code",
   "execution_count": 13,
   "metadata": {
    "execution": {
     "iopub.execute_input": "2022-04-03T08:08:38.323366Z",
     "iopub.status.busy": "2022-04-03T08:08:38.323174Z",
     "iopub.status.idle": "2022-04-03T08:08:38.68332Z",
     "shell.execute_reply": "2022-04-03T08:08:38.682538Z",
     "shell.execute_reply.started": "2022-04-03T08:08:38.323342Z"
    }
   },
   "outputs": [
    {
     "name": "stdout",
     "output_type": "stream",
     "text": [
      "Training accuracy: 100.00%\n",
      "Validation accuracy: 100.00%\n",
      "Test accuracy: 56.41%\n"
     ]
    }
   ],
   "source": [
    "rfc = RandomForestClassifier(random_state=seed, n_estimators=100).fit(train_valid_X, train_valid_y)\n",
    "print(f'Training accuracy: {100 * rfc.score(train_X, train_y):.2f}%')\n",
    "print(f'Validation accuracy: {100 * rfc.score(valid_X, valid_y):.2f}%')\n",
    "print(f'Test accuracy: {100 * rfc.score(test_X, test_y):.2f}%')"
   ]
  },
  {
   "cell_type": "code",
   "execution_count": 14,
   "metadata": {
    "execution": {
     "iopub.execute_input": "2022-04-03T08:08:38.685098Z",
     "iopub.status.busy": "2022-04-03T08:08:38.684702Z",
     "iopub.status.idle": "2022-04-03T08:08:38.966538Z",
     "shell.execute_reply": "2022-04-03T08:08:38.96557Z",
     "shell.execute_reply.started": "2022-04-03T08:08:38.685055Z"
    }
   },
   "outputs": [
    {
     "data": {
      "text/plain": [
       "<AxesSubplot:>"
      ]
     },
     "execution_count": 14,
     "metadata": {},
     "output_type": "execute_result"
    },
    {
     "data": {
      "image/png": "[encoded data removed]",
      "text/plain": [
       "<Figure size 432x288 with 2 Axes>"
      ]
     },
     "metadata": {},
     "output_type": "display_data"
    }
   ],
   "source": [
    "rfc_cfmt = confusion_matrix(test_y, rfc.predict(test_X))\n",
    "sns.heatmap(rfc_cfmt, annot=True)"
   ]
  },
  {
   "cell_type": "markdown",
   "metadata": {},
   "source": [
    "### Principal Component Analysis + Random Forest"
   ]
  },
  {
   "cell_type": "code",
   "execution_count": 15,
   "metadata": {
    "execution": {
     "iopub.execute_input": "2022-04-03T08:08:38.968189Z",
     "iopub.status.busy": "2022-04-03T08:08:38.96789Z",
     "iopub.status.idle": "2022-04-03T08:08:39.192851Z",
     "shell.execute_reply": "2022-04-03T08:08:39.191898Z",
     "shell.execute_reply.started": "2022-04-03T08:08:38.968149Z"
    },
    "scrolled": false
   },
   "outputs": [
    {
     "name": "stdout",
     "output_type": "stream",
     "text": [
      "Training accuracy: 100.00%\n",
      "Validation accuracy: 100.00%\n",
      "Test accuracy: 46.15%\n"
     ]
    }
   ],
   "source": [
    "pca = PCA()\n",
    "pca_X = pca.fit_transform(X)\n",
    "pca_tv_X, pca_test_X, pca_tv_y, pca_test_y = train_test_split(pca_X, y, test_size=0.1, random_state=seed)\n",
    "pca_train_X, pca_valid_X, pca_train_y, pca_valid_y = train_test_split(pca_tv_X, pca_tv_y, test_size=1/9, random_state=seed)\n",
    "pcarfc = RandomForestClassifier(random_state=seed, n_estimators=100).fit(pca_tv_X, pca_tv_y)\n",
    "print(f'Training accuracy: {100 * pcarfc.score(pca_train_X, pca_train_y):.2f}%')\n",
    "print(f'Validation accuracy: {100 * pcarfc.score(pca_valid_X, pca_valid_y):.2f}%')\n",
    "print(f'Test accuracy: {100 * pcarfc.score(pca_test_X, pca_test_y):.2f}%')"
   ]
  },
  {
   "cell_type": "markdown",
   "metadata": {},
   "source": [
    "### Linear Discriminant Analysis"
   ]
  },
  {
   "cell_type": "code",
   "execution_count": 16,
   "metadata": {
    "execution": {
     "iopub.execute_input": "2022-04-03T08:08:39.197964Z",
     "iopub.status.busy": "2022-04-03T08:08:39.197476Z",
     "iopub.status.idle": "2022-04-03T08:08:39.265561Z",
     "shell.execute_reply": "2022-04-03T08:08:39.263117Z",
     "shell.execute_reply.started": "2022-04-03T08:08:39.197933Z"
    }
   },
   "outputs": [
    {
     "name": "stdout",
     "output_type": "stream",
     "text": [
      "Training accuracy: 87.83%\n",
      "Validation accuracy: 97.37%\n",
      "Test accuracy: 43.59%\n"
     ]
    }
   ],
   "source": [
    "lda = LinearDiscriminantAnalysis().fit(train_valid_X, train_valid_y)\n",
    "print(f'Training accuracy: {100 * lda.score(train_X, train_y):.2f}%')\n",
    "print(f'Validation accuracy: {100 * lda.score(valid_X, valid_y):.2f}%')\n",
    "print(f'Test accuracy: {100 * lda.score(test_X, test_y):.2f}%')"
   ]
  },
  {
   "cell_type": "markdown",
   "metadata": {},
   "source": [
    "### Quadratic Discriminant Analysis"
   ]
  },
  {
   "cell_type": "code",
   "execution_count": 17,
   "metadata": {
    "execution": {
     "iopub.execute_input": "2022-04-03T08:08:39.270337Z",
     "iopub.status.busy": "2022-04-03T08:08:39.270011Z",
     "iopub.status.idle": "2022-04-03T08:08:39.341849Z",
     "shell.execute_reply": "2022-04-03T08:08:39.340989Z",
     "shell.execute_reply.started": "2022-04-03T08:08:39.270295Z"
    }
   },
   "outputs": [
    {
     "name": "stdout",
     "output_type": "stream",
     "text": [
      "Training accuracy: 99.67%\n",
      "Validation accuracy: 100.00%\n",
      "Test accuracy: 41.03%\n"
     ]
    },
    {
     "name": "stderr",
     "output_type": "stream",
     "text": [
      "C:\\Users\\HP\\Anaconda3\\envs\\AI-env\\lib\\site-packages\\sklearn\\discriminant_analysis.py:878: UserWarning: Variables are collinear\n",
      "  warnings.warn(\"Variables are collinear\")\n"
     ]
    }
   ],
   "source": [
    "qda = QuadraticDiscriminantAnalysis().fit(train_valid_X, train_valid_y)\n",
    "print(f'Training accuracy: {100 * qda.score(train_X, train_y):.2f}%')\n",
    "print(f'Validation accuracy: {100 * qda.score(valid_X, valid_y):.2f}%')\n",
    "print(f'Test accuracy: {100 * qda.score(test_X, test_y):.2f}%')"
   ]
  },
  {
   "cell_type": "markdown",
   "metadata": {},
   "source": [
    "### Logistic Regression Model"
   ]
  },
  {
   "cell_type": "code",
   "execution_count": 18,
   "metadata": {
    "execution": {
     "iopub.execute_input": "2022-04-03T08:08:39.349027Z",
     "iopub.status.busy": "2022-04-03T08:08:39.346579Z",
     "iopub.status.idle": "2022-04-03T08:08:39.416651Z",
     "shell.execute_reply": "2022-04-03T08:08:39.415754Z",
     "shell.execute_reply.started": "2022-04-03T08:08:39.348961Z"
    }
   },
   "outputs": [
    {
     "name": "stdout",
     "output_type": "stream",
     "text": [
      "Training accuracy: 75.33%\n",
      "Validation accuracy: 81.58%\n",
      "Test accuracy: 48.72%\n"
     ]
    }
   ],
   "source": [
    "lrg = SGDClassifier(random_state=seed, loss='log', penalty='l2',\n",
    "                       early_stopping=True, validation_fraction=1/9\n",
    "                       ).fit(train_valid_X, train_valid_y)\n",
    "print(f'Training accuracy: {100 * lrg.score(train_X, train_y):.2f}%')\n",
    "print(f'Validation accuracy: {100 * lrg.score(valid_X, valid_y):.2f}%')\n",
    "print(f'Test accuracy: {100 * lrg.score(test_X, test_y):.2f}%')"
   ]
  },
  {
   "cell_type": "markdown",
   "metadata": {},
   "source": [
    "### Multilayer Classifier Model"
   ]
  },
  {
   "cell_type": "code",
   "execution_count": 19,
   "metadata": {
    "execution": {
     "iopub.execute_input": "2022-04-03T08:08:39.420301Z",
     "iopub.status.busy": "2022-04-03T08:08:39.419859Z",
     "iopub.status.idle": "2022-04-03T08:08:39.5296Z",
     "shell.execute_reply": "2022-04-03T08:08:39.528687Z",
     "shell.execute_reply.started": "2022-04-03T08:08:39.420256Z"
    }
   },
   "outputs": [
    {
     "name": "stderr",
     "output_type": "stream",
     "text": [
      "C:\\Users\\HP\\Anaconda3\\envs\\AI-env\\lib\\site-packages\\sklearn\\base.py:451: UserWarning: X does not have valid feature names, but MLPClassifier was fitted with feature names\n",
      "  \"X does not have valid feature names, but\"\n",
      "C:\\Users\\HP\\Anaconda3\\envs\\AI-env\\lib\\site-packages\\sklearn\\base.py:451: UserWarning: X does not have valid feature names, but MLPClassifier was fitted with feature names\n",
      "  \"X does not have valid feature names, but\"\n",
      "C:\\Users\\HP\\Anaconda3\\envs\\AI-env\\lib\\site-packages\\sklearn\\base.py:451: UserWarning: X does not have valid feature names, but MLPClassifier was fitted with feature names\n",
      "  \"X does not have valid feature names, but\"\n",
      "C:\\Users\\HP\\Anaconda3\\envs\\AI-env\\lib\\site-packages\\sklearn\\base.py:451: UserWarning: X does not have valid feature names, but MLPClassifier was fitted with feature names\n",
      "  \"X does not have valid feature names, but\"\n",
      "C:\\Users\\HP\\Anaconda3\\envs\\AI-env\\lib\\site-packages\\sklearn\\base.py:451: UserWarning: X does not have valid feature names, but MLPClassifier was fitted with feature names\n",
      "  \"X does not have valid feature names, but\"\n",
      "C:\\Users\\HP\\Anaconda3\\envs\\AI-env\\lib\\site-packages\\sklearn\\base.py:451: UserWarning: X does not have valid feature names, but MLPClassifier was fitted with feature names\n",
      "  \"X does not have valid feature names, but\"\n",
      "C:\\Users\\HP\\Anaconda3\\envs\\AI-env\\lib\\site-packages\\sklearn\\base.py:451: UserWarning: X does not have valid feature names, but MLPClassifier was fitted with feature names\n",
      "  \"X does not have valid feature names, but\"\n",
      "C:\\Users\\HP\\Anaconda3\\envs\\AI-env\\lib\\site-packages\\sklearn\\base.py:451: UserWarning: X does not have valid feature names, but MLPClassifier was fitted with feature names\n",
      "  \"X does not have valid feature names, but\"\n",
      "C:\\Users\\HP\\Anaconda3\\envs\\AI-env\\lib\\site-packages\\sklearn\\base.py:451: UserWarning: X does not have valid feature names, but MLPClassifier was fitted with feature names\n",
      "  \"X does not have valid feature names, but\"\n",
      "C:\\Users\\HP\\Anaconda3\\envs\\AI-env\\lib\\site-packages\\sklearn\\base.py:451: UserWarning: X does not have valid feature names, but MLPClassifier was fitted with feature names\n",
      "  \"X does not have valid feature names, but\"\n",
      "C:\\Users\\HP\\Anaconda3\\envs\\AI-env\\lib\\site-packages\\sklearn\\base.py:451: UserWarning: X does not have valid feature names, but MLPClassifier was fitted with feature names\n",
      "  \"X does not have valid feature names, but\"\n",
      "C:\\Users\\HP\\Anaconda3\\envs\\AI-env\\lib\\site-packages\\sklearn\\base.py:451: UserWarning: X does not have valid feature names, but MLPClassifier was fitted with feature names\n",
      "  \"X does not have valid feature names, but\"\n",
      "C:\\Users\\HP\\Anaconda3\\envs\\AI-env\\lib\\site-packages\\sklearn\\base.py:451: UserWarning: X does not have valid feature names, but MLPClassifier was fitted with feature names\n",
      "  \"X does not have valid feature names, but\"\n",
      "C:\\Users\\HP\\Anaconda3\\envs\\AI-env\\lib\\site-packages\\sklearn\\base.py:451: UserWarning: X does not have valid feature names, but MLPClassifier was fitted with feature names\n",
      "  \"X does not have valid feature names, but\"\n"
     ]
    },
    {
     "name": "stdout",
     "output_type": "stream",
     "text": [
      "Training accuracy: 71.05%\n",
      "Validation accuracy: 63.16%\n",
      "Test accuracy: 64.10%\n"
     ]
    },
    {
     "name": "stderr",
     "output_type": "stream",
     "text": [
      "C:\\Users\\HP\\Anaconda3\\envs\\AI-env\\lib\\site-packages\\sklearn\\base.py:451: UserWarning: X does not have valid feature names, but MLPClassifier was fitted with feature names\n",
      "  \"X does not have valid feature names, but\"\n",
      "C:\\Users\\HP\\Anaconda3\\envs\\AI-env\\lib\\site-packages\\sklearn\\base.py:451: UserWarning: X does not have valid feature names, but MLPClassifier was fitted with feature names\n",
      "  \"X does not have valid feature names, but\"\n",
      "C:\\Users\\HP\\Anaconda3\\envs\\AI-env\\lib\\site-packages\\sklearn\\base.py:451: UserWarning: X does not have valid feature names, but MLPClassifier was fitted with feature names\n",
      "  \"X does not have valid feature names, but\"\n",
      "C:\\Users\\HP\\Anaconda3\\envs\\AI-env\\lib\\site-packages\\sklearn\\base.py:451: UserWarning: X does not have valid feature names, but MLPClassifier was fitted with feature names\n",
      "  \"X does not have valid feature names, but\"\n"
     ]
    }
   ],
   "source": [
    "mlp = MLPClassifier((n_features // 2,), random_state=seed,\n",
    "                       early_stopping=True, validation_fraction=1/9\n",
    "                      ).fit(train_valid_X, train_valid_y)\n",
    "print(f'Training accuracy: {100 * mlp.score(train_X, train_y):.2f}%')\n",
    "print(f'Validation accuracy: {100 * mlp.score(valid_X, valid_y):.2f}%')\n",
    "print(f'Test accuracy: {100 * mlp.score(test_X, test_y):.2f}%')"
   ]
  },
  {
   "cell_type": "code",
   "execution_count": 20,
   "metadata": {
    "execution": {
     "iopub.execute_input": "2022-04-03T08:08:39.532226Z",
     "iopub.status.busy": "2022-04-03T08:08:39.531527Z",
     "iopub.status.idle": "2022-04-03T08:08:39.541047Z",
     "shell.execute_reply": "2022-04-03T08:08:39.540104Z",
     "shell.execute_reply.started": "2022-04-03T08:08:39.532175Z"
    }
   },
   "outputs": [],
   "source": [
    "class MLP(nn.Module):\n",
    "    def __init__(self, n_features, n_classes):\n",
    "        super(MLP, self).__init__()\n",
    "        self.classifier = nn.Sequential(nn.Linear(n_features, n_features // 16),\n",
    "                                           nn.ReLU(),\n",
    "                                           nn.Linear(n_features // 16, n_classes)\n",
    "        )\n",
    "    \n",
    "    def forward(self, x):\n",
    "        logits = self.classifier(x)\n",
    "        probs = nn.functional.softmax(logits, dim=1)\n",
    "        return logits, probs"
   ]
  },
  {
   "cell_type": "code",
   "execution_count": 21,
   "metadata": {
    "execution": {
     "iopub.execute_input": "2022-04-03T08:08:39.54356Z",
     "iopub.status.busy": "2022-04-03T08:08:39.542924Z",
     "iopub.status.idle": "2022-04-03T08:08:39.555267Z",
     "shell.execute_reply": "2022-04-03T08:08:39.554323Z",
     "shell.execute_reply.started": "2022-04-03T08:08:39.543513Z"
    }
   },
   "outputs": [],
   "source": [
    "model = MLP(n_features, n_classes).to(device)\n",
    "optimizer = torch.optim.Adam(model.parameters(), lr=lr, weight_decay=5e-2)\n",
    "criterion = nn.CrossEntropyLoss().to(device)"
   ]
  },
  {
   "cell_type": "code",
   "execution_count": 22,
   "metadata": {
    "execution": {
     "iopub.execute_input": "2022-04-03T08:08:39.563425Z",
     "iopub.status.busy": "2022-04-03T08:08:39.560844Z",
     "iopub.status.idle": "2022-04-03T08:08:39.574579Z",
     "shell.execute_reply": "2022-04-03T08:08:39.573681Z",
     "shell.execute_reply.started": "2022-04-03T08:08:39.563374Z"
    }
   },
   "outputs": [],
   "source": [
    "def get_accuracy(model, data_loader, device='cpu'):\n",
    "    correct_pred = 0 \n",
    "    n = 0\n",
    "    \n",
    "    with torch.no_grad():\n",
    "        model.eval()\n",
    "        for X, y in data_loader:\n",
    "            X = X.to(device=device, dtype=torch.float)\n",
    "            y = y.to(device=device, dtype=torch.long)\n",
    "            _, y_prob = model(X)\n",
    "            _, predicted_labels = torch.max(y_prob, 1)\n",
    "            n += y.size(0)\n",
    "            correct_pred += (predicted_labels == y).sum()\n",
    "\n",
    "    return float(correct_pred) / n"
   ]
  },
  {
   "cell_type": "code",
   "execution_count": 23,
   "metadata": {
    "execution": {
     "iopub.execute_input": "2022-04-03T08:08:39.582901Z",
     "iopub.status.busy": "2022-04-03T08:08:39.580028Z",
     "iopub.status.idle": "2022-04-03T08:08:39.594234Z",
     "shell.execute_reply": "2022-04-03T08:08:39.593252Z",
     "shell.execute_reply.started": "2022-04-03T08:08:39.582849Z"
    }
   },
   "outputs": [],
   "source": [
    "def train(model, optimizer, criterion, device='cpu'):\n",
    "    model.train()\n",
    "    train_loss = 0\n",
    "    for X, y in train_loader:\n",
    "        optimizer.zero_grad()\n",
    "        X = X.to(device=device, dtype=torch.float)\n",
    "        y = y.to(device=device, dtype=torch.long)\n",
    "        y_pred, _ = model(X)\n",
    "        loss = criterion(y_pred, y.long())\n",
    "        train_loss += loss.item() * X.size(0)\n",
    "        \n",
    "        loss.backward()\n",
    "        optimizer.step()\n",
    "    \n",
    "    epoch_loss = train_loss / len(train_X)\n",
    "    return epoch_loss"
   ]
  },
  {
   "cell_type": "code",
   "execution_count": 24,
   "metadata": {
    "execution": {
     "iopub.execute_input": "2022-04-03T08:08:39.60269Z",
     "iopub.status.busy": "2022-04-03T08:08:39.599933Z",
     "iopub.status.idle": "2022-04-03T08:08:39.613552Z",
     "shell.execute_reply": "2022-04-03T08:08:39.61266Z",
     "shell.execute_reply.started": "2022-04-03T08:08:39.602638Z"
    }
   },
   "outputs": [],
   "source": [
    "def validate(model, optimizer, criterion, device='cpu'):\n",
    "    model.eval()\n",
    "    valid_loss = 0\n",
    "    for X, y in valid_loader:\n",
    "        optimizer.zero_grad()\n",
    "        X = X.to(device=device, dtype=torch.float)\n",
    "        y = y.to(device=device, dtype=torch.long)\n",
    "        y_pred, _ = model(X)\n",
    "        loss = criterion(y_pred, y)\n",
    "        valid_loss += loss.item() * X.size(0)\n",
    "    \n",
    "    epoch_loss = valid_loss / len(valid_X)\n",
    "    return epoch_loss"
   ]
  },
  {
   "cell_type": "code",
   "execution_count": 25,
   "metadata": {
    "execution": {
     "iopub.execute_input": "2022-04-03T08:08:39.621652Z",
     "iopub.status.busy": "2022-04-03T08:08:39.618891Z",
     "iopub.status.idle": "2022-04-03T08:08:39.634504Z",
     "shell.execute_reply": "2022-04-03T08:08:39.633598Z",
     "shell.execute_reply.started": "2022-04-03T08:08:39.621577Z"
    }
   },
   "outputs": [],
   "source": [
    "def train_and_validate(model, optimizer, criterion, epochs=50, device='cpu', print_every=5):\n",
    "    train_losses = []\n",
    "    valid_losses = []\n",
    " \n",
    "    for epoch in range(epochs):\n",
    "        # training\n",
    "        train_loss = train(model, optimizer, criterion, device)\n",
    "        train_losses.append(train_loss)\n",
    "\n",
    "        # validation\n",
    "        with torch.no_grad():\n",
    "            valid_loss = validate(model, optimizer, criterion, device)\n",
    "            valid_losses.append(valid_loss)\n",
    "\n",
    "        if epoch % print_every == (print_every - 1):\n",
    "            train_acc = get_accuracy(model, train_loader, device)\n",
    "            valid_acc = get_accuracy(model, valid_loader, device)\n",
    "            print(f'Epoch: {epoch:>2}\\t'\n",
    "                  f'Train loss: {train_loss:.4f}\\t'\n",
    "                  f'Valid loss: {valid_loss:.4f}\\t'\n",
    "                  f'Train accuracy: {100 * train_acc:.2f}%\\t'\n",
    "                  f'Valid accuracy: {100 * valid_acc:.2f}%')\n",
    "    \n",
    "    return train_losses, valid_losses"
   ]
  },
  {
   "cell_type": "code",
   "execution_count": 26,
   "metadata": {
    "execution": {
     "iopub.execute_input": "2022-04-03T08:08:39.642869Z",
     "iopub.status.busy": "2022-04-03T08:08:39.639906Z",
     "iopub.status.idle": "2022-04-03T08:08:40.952856Z",
     "shell.execute_reply": "2022-04-03T08:08:40.951882Z",
     "shell.execute_reply.started": "2022-04-03T08:08:39.642805Z"
    },
    "scrolled": true
   },
   "outputs": [
    {
     "name": "stdout",
     "output_type": "stream",
     "text": [
      "Epoch:  4\tTrain loss: 1.3654\tValid loss: 1.7720\tTrain accuracy: 68.09%\tValid accuracy: 47.37%\n",
      "Epoch:  9\tTrain loss: 0.8927\tValid loss: 1.2631\tTrain accuracy: 70.39%\tValid accuracy: 52.63%\n",
      "Epoch: 14\tTrain loss: 0.7370\tValid loss: 1.0598\tTrain accuracy: 71.38%\tValid accuracy: 52.63%\n",
      "Epoch: 19\tTrain loss: 0.6735\tValid loss: 0.9923\tTrain accuracy: 76.32%\tValid accuracy: 55.26%\n",
      "Epoch: 24\tTrain loss: 0.6390\tValid loss: 0.9758\tTrain accuracy: 76.64%\tValid accuracy: 57.89%\n",
      "Epoch: 29\tTrain loss: 0.6089\tValid loss: 0.9676\tTrain accuracy: 78.62%\tValid accuracy: 55.26%\n",
      "Epoch: 34\tTrain loss: 0.5893\tValid loss: 0.9342\tTrain accuracy: 80.92%\tValid accuracy: 55.26%\n"
     ]
    }
   ],
   "source": [
    "train_losses, valid_losses = train_and_validate(model, optimizer, criterion, epochs, device)"
   ]
  },
  {
   "cell_type": "code",
   "execution_count": 27,
   "metadata": {
    "execution": {
     "iopub.execute_input": "2022-04-03T08:08:40.954462Z",
     "iopub.status.busy": "2022-04-03T08:08:40.954161Z",
     "iopub.status.idle": "2022-04-03T08:08:41.270977Z",
     "shell.execute_reply": "2022-04-03T08:08:41.270384Z",
     "shell.execute_reply.started": "2022-04-03T08:08:40.954423Z"
    }
   },
   "outputs": [
    {
     "data": {
      "image/png": "[encoded data removed]",
      "text/plain": [
       "<Figure size 432x288 with 1 Axes>"
      ]
     },
     "metadata": {},
     "output_type": "display_data"
    }
   ],
   "source": [
    "sns.set()\n",
    "sns.lineplot(x=list(range(epochs)), y=train_losses, label='Training loss')\n",
    "sns.lineplot(x=list(range(epochs)), y=valid_losses, label='Validation loss')\n",
    "plt.title('Loss over epochs', fontweight='bold')\n",
    "plt.xlabel('Epoch')\n",
    "plt.ylabel('Loss')\n",
    "plt.show()"
   ]
  },
  {
   "cell_type": "code",
   "execution_count": 28,
   "metadata": {
    "execution": {
     "iopub.execute_input": "2022-04-03T08:08:41.272173Z",
     "iopub.status.busy": "2022-04-03T08:08:41.271855Z",
     "iopub.status.idle": "2022-04-03T08:08:41.27918Z",
     "shell.execute_reply": "2022-04-03T08:08:41.278633Z",
     "shell.execute_reply.started": "2022-04-03T08:08:41.272147Z"
    }
   },
   "outputs": [
    {
     "name": "stdout",
     "output_type": "stream",
     "text": [
      "Testing Accuracy: 58.97%\n"
     ]
    }
   ],
   "source": [
    "test_dataset = DCCADataset(test_X, test_y)\n",
    "test_loader = DataLoader(test_dataset, batch_size, shuffle=False)\n",
    "\n",
    "test_accuracy = get_accuracy(model, test_loader, device)\n",
    "print(f'Testing Accuracy: {100 * test_accuracy:.2f}%')"
   ]
  },
  {
   "cell_type": "markdown",
   "metadata": {},
   "source": [
    "## Predicting 2016 Results Using 2012 Model"
   ]
  },
  {
   "cell_type": "code",
   "execution_count": 29,
   "metadata": {
    "execution": {
     "iopub.execute_input": "2022-04-03T08:08:41.280701Z",
     "iopub.status.busy": "2022-04-03T08:08:41.280152Z",
     "iopub.status.idle": "2022-04-03T08:08:41.325616Z",
     "shell.execute_reply": "2022-04-03T08:08:41.324904Z",
     "shell.execute_reply.started": "2022-04-03T08:08:41.280671Z"
    }
   },
   "outputs": [],
   "source": [
    "year = 2012\n",
    "if year == 2012:\n",
    "    X = dcca_11c.drop(['ca_chi', 'legco2012_winner', 'legco2016_winner'], axis=1)\n",
    "    try:\n",
    "        y = le_legco_winner_party.transform(dcca_11c['legco2016_winner'])\n",
    "    except ValueError:\n",
    "        y = le_legco_winner_bloc.transform(dcca_11c['legco2016_winner'])\n",
    "else:\n",
    "    X = dcca_16bc.drop(['ca_chi', 'legco2016_winner'], axis=1)\n",
    "    try:\n",
    "        y = le_legco_winner_party.transform(dcca_16bc['legco2016_winner'])\n",
    "    except ValueError:\n",
    "        y = le_legco_winner_bloc.transform(dcca_16bc['legco2016_winner'])\n",
    "if need_scaler:\n",
    "    X[X.columns] = scaler.transform(X)"
   ]
  },
  {
   "cell_type": "code",
   "execution_count": 30,
   "metadata": {
    "execution": {
     "iopub.execute_input": "2022-04-03T08:08:41.327094Z",
     "iopub.status.busy": "2022-04-03T08:08:41.326721Z",
     "iopub.status.idle": "2022-04-03T08:08:41.392387Z",
     "shell.execute_reply": "2022-04-03T08:08:41.391405Z",
     "shell.execute_reply.started": "2022-04-03T08:08:41.327064Z"
    }
   },
   "outputs": [
    {
     "name": "stdout",
     "output_type": "stream",
     "text": [
      "Decision Tree Accuracy: 51.18%\n",
      "Random Forest Accuracy: 51.71%\n",
      "PCA Accuracy: 53.02%\n",
      "LDA Accuracy: 51.44%\n",
      "QDA Accuracy: 53.81%\n",
      "Logistic Regression Accuracy: 49.34%\n",
      "Multilayer Perceptron Accuracy: 52.76%\n"
     ]
    }
   ],
   "source": [
    "print(f'Decision Tree Accuracy: {dtc.score(X, y) * 100:.2f}%')\n",
    "print(f'Random Forest Accuracy: {rfc.score(X, y) * 100:.2f}%')\n",
    "print(f'PCA Accuracy: {pcarfc.score(pca.transform(X), y) * 100:.2f}%')\n",
    "print(f'LDA Accuracy: {lda.score(X, y) * 100:.2f}%')\n",
    "print(f'QDA Accuracy: {qda.score(X, y) * 100:.2f}%')\n",
    "print(f'Logistic Regression Accuracy: {lrg.score(X, y) * 100:.2f}%')\n",
    "print(f'Multilayer Perceptron Accuracy: {mlp.score(X, y) * 100:.2f}%')"
   ]
  },
  {
   "cell_type": "code",
   "execution_count": 31,
   "metadata": {
    "execution": {
     "iopub.execute_input": "2022-04-03T08:08:41.39464Z",
     "iopub.status.busy": "2022-04-03T08:08:41.394093Z",
     "iopub.status.idle": "2022-04-03T08:08:41.434782Z",
     "shell.execute_reply": "2022-04-03T08:08:41.433836Z",
     "shell.execute_reply.started": "2022-04-03T08:08:41.394581Z"
    }
   },
   "outputs": [
    {
     "name": "stdout",
     "output_type": "stream",
     "text": [
      "PyTorch MLP Accuracy: 53.81%\n"
     ]
    }
   ],
   "source": [
    "dataset = DCCADataset(X, y)\n",
    "loader = DataLoader(dataset, batch_size, shuffle=False)\n",
    "\n",
    "accuracy = get_accuracy(model, loader, device)\n",
    "print(f'PyTorch MLP Accuracy: {100 * accuracy:.2f}%')"
   ]
  },
  {
   "cell_type": "markdown",
   "metadata": {},
   "source": [
    "We can see that the models are similar to random guessing, meaning that they cannot explain the relationship between the features and the political bloc. The models are also unable to predict the 2016 LegCo results using 2016 By-census data. Possible reasons may be:\n",
    "\n",
    "- There are too many features for the models to consider; and\n",
    "- Hierarchical data and grouped data are described as separate features.\n",
    "\n",
    "These problems will be addressed in the feature engineering part."
   ]
  }
 ],
 "metadata": {
  "kernelspec": {
   "display_name": "Python 3 (ipykernel)",
   "language": "python",
   "name": "python3"
  },
  "language_info": {
   "codemirror_mode": {
    "name": "ipython",
    "version": 3
   },
   "file_extension": ".py",
   "mimetype": "text/x-python",
   "name": "python",
   "nbconvert_exporter": "python",
   "pygments_lexer": "ipython3",
   "version": "3.7.11"
  }
 },
 "nbformat": 4,
 "nbformat_minor": 4
}
