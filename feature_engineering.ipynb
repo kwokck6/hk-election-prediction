{
 "cells": [
  {
   "cell_type": "markdown",
   "metadata": {},
   "source": [
    "# Feature Engineering"
   ]
  },
  {
   "cell_type": "code",
   "execution_count": 1,
   "metadata": {},
   "outputs": [],
   "source": [
    "import pandas as pd\n",
    "from sklearn.preprocessing import MinMaxScaler, LabelEncoder\n",
    "from sklearn.feature_selection import SelectKBest, chi2\n",
    "pd.options.mode.chained_assignment = None  # to silence verbose warnings"
   ]
  },
  {
   "cell_type": "code",
   "execution_count": 2,
   "metadata": {},
   "outputs": [],
   "source": [
    "dcca_11c = pd.read_csv('dcca_11c_processed.csv')\n",
    "dcca_16bc = pd.read_csv('dcca_16bc_processed.csv')\n",
    "pol_parties = ['ADPL', 'BPA', 'CIV', 'CivP', 'CivPass', 'DAB', 'DP', 'Demosisto', 'FTU', 'IND', 'LAB', 'LIB', 'LSD', 'NPP', 'NWSC', 'NeoDem', 'PathDem', 'PeoP', 'Young']\n",
    "bloc = ['CEN', 'DEM', 'EST', 'IND', 'LOC']\n",
    "le_legco_winner_party = LabelEncoder().fit(pol_parties)\n",
    "le_legco_winner_bloc = LabelEncoder().fit(bloc)"
   ]
  },
  {
   "cell_type": "markdown",
   "metadata": {},
   "source": [
    "## Delete redundant features"
   ]
  },
  {
   "cell_type": "code",
   "execution_count": 3,
   "metadata": {},
   "outputs": [],
   "source": [
    "# similar_features_prefix = ['age_', 'ethn_', 'ms_', 'mearn_xfdh_', 'mearn_xfdhfw_', 'wp_', 'nwp_', 'plw_', 'pls_', 'dhz_', 'dhc_', 'dhi_', 'dhr_', 'oq_', 'dh_', 'pop_', 'dhm_', 'pm_']\n",
    "# # similar_features_suffix = ['_m', '_f']\n",
    "\n",
    "# def remove_features(df, prefix=None, suffix=None):\n",
    "#     filter_bool = pd.Series([True] * len(df.columns), index=df.columns)\n",
    "#     if prefix is not None:\n",
    "#         for pre in prefix:\n",
    "#             filter_bool &= ~df.columns.str.startswith(pre)\n",
    "#     if suffix is not None:\n",
    "#         for suf in suffix:\n",
    "#             filter_bool &= ~df.columns.str.endswith(suf)\n",
    "#     return filter_bool\n",
    "\n",
    "# filter_bool = remove_features(dcca_11c, similar_features_prefix)\n",
    "# dcca_11c = dcca_11c.loc[:, filter_bool].set_index('dcca_class')\n",
    "# dcca_16bc = dcca_16bc.loc[:, filter_bool].set_index('dcca_class')\n",
    "dcca_11c = dcca_11c.set_index('ca_chi')\n",
    "dcca_16bc = dcca_16bc.set_index('ca_chi')"
   ]
  },
  {
   "cell_type": "markdown",
   "metadata": {},
   "source": [
    "## Create inferred features"
   ]
  },
  {
   "cell_type": "code",
   "execution_count": 4,
   "metadata": {},
   "outputs": [],
   "source": [
    "# transform hierarchical data to numbers, then calculate the average\n",
    "edu = dcca_11c.loc[:, dcca_11c.columns.str.startswith('edu_')]\n",
    "edu_score = (edu['edu_prepri'] * 0.5 + edu['edu_pri'] * 1. + edu['edu_lsec'] * 1.5 + edu['edu_usec'] * 2. + edu['edu_dip'] * 2.33 + \\\n",
    "            edu['edu_sub'] * 2.67 + edu['edu_deg'] * 3.) / edu.sum(axis=1)\n",
    "\n",
    "dcca_11c = dcca_11c.loc[:, ~dcca_11c.columns.str.startswith('edu_')]\n",
    "dcca_11c['edu_score'] = edu_score\n",
    "\n",
    "edu = dcca_16bc.loc[:, dcca_16bc.columns.str.startswith('edu_')]\n",
    "edu_score = (edu['edu_prepri'] * 0.5 + edu['edu_pri'] * 1. + edu['edu_lsec'] * 1.5 + edu['edu_usec'] * 2. + edu['edu_dip'] * 2.33 + \\\n",
    "            edu['edu_sub'] * 2.67 + edu['edu_deg'] * 3.) / edu.sum(axis=1)\n",
    "\n",
    "dcca_16bc = dcca_16bc.loc[:, ~dcca_16bc.columns.str.startswith('edu_')]\n",
    "dcca_16bc['edu_score'] = edu_score"
   ]
  },
  {
   "cell_type": "markdown",
   "metadata": {},
   "source": [
    "## Select the Best 20 Features"
   ]
  },
  {
   "cell_type": "code",
   "execution_count": 6,
   "metadata": {},
   "outputs": [],
   "source": [
    "X = dcca_11c.drop(['legco2012_winner', 'legco2016_winner'], axis=1)\n",
    "try:\n",
    "    y = le_legco_winner_party.transform(dcca_11c['legco2012_winner'])\n",
    "except ValueError:\n",
    "    y = le_legco_winner_bloc.transform(dcca_11c['legco2012_winner'])"
   ]
  },
  {
   "cell_type": "code",
   "execution_count": 7,
   "metadata": {},
   "outputs": [],
   "source": [
    "best_feats = SelectKBest(score_func=chi2).fit(X, y)\n",
    "feature_scores = pd.DataFrame({'features': X.columns, 'score': best_feats.scores_})\n",
    "score = feature_scores.nlargest(37, 'score')\n",
    "chosen_feats = list(score[score.score >= 3000]['features'].values)\n",
    "chosen_feats += ['legco2012_winner', 'legco2016_winner']"
   ]
  },
  {
   "cell_type": "markdown",
   "metadata": {},
   "source": [
    "## Saving the engineered data set"
   ]
  },
  {
   "cell_type": "code",
   "execution_count": 8,
   "metadata": {},
   "outputs": [],
   "source": [
    "dcca_11c[chosen_feats].to_csv('dcca_11c_engineered.csv', index='ca_chi')\n",
    "chosen_feats.remove('legco2012_winner')\n",
    "dcca_16bc[chosen_feats].to_csv('dcca_16bc_engineered.csv', index='ca_chi')"
   ]
  }
 ],
 "metadata": {
  "kernelspec": {
   "display_name": "Python 3 (ipykernel)",
   "language": "python",
   "name": "python3"
  },
  "language_info": {
   "codemirror_mode": {
    "name": "ipython",
    "version": 3
   },
   "file_extension": ".py",
   "mimetype": "text/x-python",
   "name": "python",
   "nbconvert_exporter": "python",
   "pygments_lexer": "ipython3",
   "version": "3.7.11"
  }
 },
 "nbformat": 4,
 "nbformat_minor": 4
}
